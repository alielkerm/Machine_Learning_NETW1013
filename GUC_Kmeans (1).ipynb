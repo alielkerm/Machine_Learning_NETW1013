{
 "cells": [
  {
   "cell_type": "markdown",
   "metadata": {},
   "source": [
    "# GUC NETW 1003 Kmeans Assginmnet "
   ]
  },
  {
   "cell_type": "markdown",
   "metadata": {},
   "source": [
    "Objective: exercise is to learn how to use build and use  kmeans clustering algortrithm    \n",
    "\n",
    "At the end of this lab you will be able to\n",
    "> 1. Build and run a K-means algorithm.\n",
    "> 2. Know how to evalute K-means Algorithm \n",
    "> 2. Understand the effect of the parmeters ont he perfromance of the algorithm .\n",
    "> 3. Understand the effect of distance."
   ]
  },
  {
   "cell_type": "markdown",
   "metadata": {},
   "source": [
    "## 1. Wirte K means function "
   ]
  },
  {
   "cell_type": "markdown",
   "metadata": {},
   "source": [
    "import required libraries "
   ]
  },
  {
   "cell_type": "code",
   "execution_count": 1,
   "metadata": {},
   "outputs": [],
   "source": [
    "import numpy as np, pandas as pd, seaborn as sns, matplotlib.pyplot as plt\n",
    "from sklearn.datasets import make_blobs\n",
    "from sklearn.datasets import make_moons"
   ]
  },
  {
   "cell_type": "markdown",
   "metadata": {},
   "source": [
    "> ### 1.1. Code for the distance function "
   ]
  },
  {
   "cell_type": "markdown",
   "metadata": {},
   "source": [
    "write a function to calculate the distance between a set of cluster centroids and all the data points \n",
    "\n",
    "Cluster_Distances = GUC_Distance ( Cluster_Centroids, Data_points, Distance_Type) \n",
    "* The function shoud be able to handel data points with any number of features and any number of points \n",
    "* The function should be able to handle any K number of cluster centroids \n",
    "* To inrease speed do that in matrix format using numpy\n",
    "* This should produce a matrix with rows equal to data points columns equal K \n",
    "* You should be able to calculate different types of Distance. In this assginmnet you are required to implement the following two \n",
    "    - Ecluidian distance\n",
    "    - Pearson correlation distance\n",
    "  "
   ]
  },
  {
   "cell_type": "code",
   "execution_count": 35,
   "metadata": {},
   "outputs": [],
   "source": [
    "def GUC_Distance ( Cluster_Centroids, Data_points, Distance_Type):\n",
    "## write code here for the Distance function here # \n",
    "    num_clusters = len(Cluster_Centroids)\n",
    "    num_points = len(Data_points)\n",
    "    Cluster_Distance = np.zeros((num_points, num_clusters))\n",
    "    if Distance_Type == 'euclidean':\n",
    "        # Euclidean distance calculation\n",
    "        for i in range(num_clusters):\n",
    "            centroid = Cluster_Centroids[i]\n",
    "            for j in range(num_points):\n",
    "                data_point = Data_points[j]\n",
    "                print(centroid)\n",
    "                answer =np.zeros(len(centroid))\n",
    "                for l, cent in enumerate(centroid):\n",
    "                    data = Data_points[l]\n",
    "                    diff = cent - data\n",
    "                    diff = diff**2\n",
    "                    print(diff)\n",
    "                    print(answer)\n",
    "                    answer[l] = diff\n",
    "                    sum_answers = sum(answer)\n",
    "                    distance = np.sqrt(sum_answers)\n",
    "                Cluster_Distance[j, i] = distance\n",
    "    elif Distance_Type == 'pearson':\n",
    "        # Pearson correlation distance calculation\n",
    "        Cluster_Distance = 1 - np.dot(Data_points, Cluster_Centroids.T) / (np.linalg.norm(Data_points, axis=1)[:, np.newaxis] * np.linalg.norm(Cluster_Centroids, axis=1))\n",
    "\n",
    "    else:\n",
    "        raise ValueError(\"Invalid Distance_Type. Use 'euclidean' or 'pearson'.\")\n",
    "\n",
    "    return Cluster_Distance \n"
   ]
  },
  {
   "cell_type": "markdown",
   "metadata": {},
   "source": [
    "> ### 1.2. Code for K means function "
   ]
  },
  {
   "cell_type": "raw",
   "metadata": {},
   "source": [
    "Create the intial cluster heads \n",
    " 1. For each data colom find the data ranges \n",
    " 2. randomly generate a number of cluster heads equal to K (th number of clusters)   "
   ]
  },
  {
   "cell_type": "markdown",
   "metadata": {},
   "source": [
    "> Loop until a stopping condition \n",
    "\n",
    "> > in the loop do the following \n",
    "> > 1. Cluster Assginmnet \n",
    "> > > * Use the GUC_Distance to calculate between each cluster head and all the points \n",
    "> > > * Find the value and index of the minimum distance  for each row. \n",
    "> > > * for each point in the row use the index of the minmum distance to represent the cluster Centroid that this point will belong to.\n",
    "> > > * Calculate and record the mean square distance for each cluster  \n",
    "> > > * Use the mean square distances to calculate a stopping condition (e.g the sum of mean distances)\n",
    "> > 2. Updtate Centroids  \n",
    "> > > * Update the value for the cluster heads by calculating the mean value for the points in each cluster \n",
    "> > >  * Calculate the Cluster Metric (Distortion Function)\n",
    "> > > > a number indicating the how good the clusters are . An example cluster metric is the  (sum of squared error between each point and its cluster center) "
   ]
  },
  {
   "cell_type": "code",
   "execution_count": 11,
   "metadata": {},
   "outputs": [],
   "source": [
    "def assign_clusters(distances):\n",
    "    cluster_assignments = []\n",
    "    for row in distances:\n",
    "        min_distance_indices = np.where(row == np.min(row))[0]\n",
    "        if len(min_distance_indices) == 1:\n",
    "            nearest_cluster_index = min_distance_indices[0]\n",
    "        else:\n",
    "            # If multiple clusters have the same distance, choose the one with the fewest points\n",
    "            cluster_counts = [cluster_assignments.count(i) for i in min_distance_indices]\n",
    "            nearest_cluster_index = min_distance_indices[np.argmin(cluster_counts)]\n",
    "        cluster_assignments.append(nearest_cluster_index)\n",
    "    return cluster_assignments"
   ]
  },
  {
   "cell_type": "code",
   "execution_count": 12,
   "metadata": {},
   "outputs": [],
   "source": [
    "def update_centroids(Data_points, cluster_assignments, num_clusters, prev_centroids):\n",
    "    updated_centroids = []\n",
    "    for cluster_index in range(num_clusters):\n",
    "        cluster_data_points = [Data_points[i] for i, cluster_assignment in enumerate(cluster_assignments) if cluster_assignment == cluster_index]\n",
    "        if cluster_data_points:\n",
    "            new_centroid = np.mean(cluster_data_points, axis=0)\n",
    "            updated_centroids.append(new_centroid.tolist())\n",
    "        else:\n",
    "            # If no data points are assigned to the cluster, use the previous centroid\n",
    "            updated_centroids.append(prev_centroids[cluster_index])\n",
    "    return updated_centroids"
   ]
  },
  {
   "cell_type": "code",
   "execution_count": 45,
   "metadata": {},
   "outputs": [],
   "source": [
    "def GUC_Kmean ( Data_points, Number_of_Clusters,  Distance_Type='euclidean', max_iterations=100, tolerance=1e-4 ):\n",
    "    \n",
    "    min_values = np.min(Data_points, axis=0)\n",
    "    max_values = np.max(Data_points, axis=0)\n",
    "    centroids = []\n",
    "    for _ in range(Number_of_Clusters):\n",
    "        centroid = [np.random.uniform(min_val, max_val) for min_val, max_val in zip(min_values, max_values)]\n",
    "        centroids.append(centroid)\n",
    "    print(centroids)\n",
    "    cluster_heads =  np.array(centroids)\n",
    "    \n",
    "\n",
    "    #cluster_heads = initialize_cluster_heads(Data_points, Number_of_Clusters)\n",
    "    \n",
    "    for iteration in range(max_iterations):\n",
    "        # Step 2: Cluster Assignment\n",
    "        Final_Cluster_Distance = GUC_Distance(cluster_heads, Data_points, Distance_Type)\n",
    "        cluster_assignments = assign_clusters(Cluster_Distance)\n",
    "        mean_square_distances = np.mean(np.min(Final_Cluster_Distance, axis=1)**2)\n",
    "        updated_heads = update_centroids(Data_points, cluster_assignments, num_clusters, prev_centroids)\n",
    "\n",
    "        # Stopping condition\n",
    "        if mean_square_distances < tolerance:\n",
    "            break\n",
    "\n",
    "        cluster_heads = updated_heads\n",
    "        # Step 4: Calculate Cluster Metric (Distortion Function)\n",
    "        Cluster_Metric = np.sum((Data_points - cluster_heads[cluster_assignments])**2)\n",
    "    \n",
    "    return [ Final_Cluster_Distance , Cluster_Metric ]    "
   ]
  },
  {
   "cell_type": "markdown",
   "metadata": {},
   "source": [
    "        # Step 3: Update Centroids\n",
    "        for k in range(Number_of_Clusters):\n",
    "            points_in_cluster = Data_points[cluster_assignments == k]\n",
    "            if len(points_in_cluster) > 0:\n",
    "                cluster_heads[k] = np.mean(points_in_cluster, axis=0)"
   ]
  },
  {
   "cell_type": "markdown",
   "metadata": {},
   "source": [
    "## 2. Display Results "
   ]
  },
  {
   "cell_type": "markdown",
   "metadata": {},
   "source": [
    "* below is a an example fuction that displayes Clusters in 2D \n",
    "\n",
    "* You need to change the function so that is can display an n dimension data in the form of pairs of subplot 2D figures \n",
    "\n",
    "* The function is a helper function that is originaly be found in \n",
    "https://www.coursera.org/learn/ibm-unsupervised-learning/\n"
   ]
  },
  {
   "cell_type": "code",
   "execution_count": 14,
   "metadata": {},
   "outputs": [],
   "source": [
    "import numpy as np, pandas as pd, seaborn as sns, matplotlib.pyplot as plt"
   ]
  },
  {
   "cell_type": "markdown",
   "metadata": {},
   "source": [
    "> #### 2.1. helper Display function "
   ]
  },
  {
   "cell_type": "code",
   "execution_count": 15,
   "metadata": {},
   "outputs": [],
   "source": [
    "# helper function that allows us to display data in 2 dimensions an highlights the clusters\n",
    "def display_cluster(X,km=[],num_clusters=0, subplot_dims=(2, 2)):\n",
    "    color = 'brgcmyk'  #List colors\n",
    "    alpha = 0.5  #color obaque\n",
    "    s = 20\n",
    "    \n",
    "#     X = np.array(X)  # Ensure X is a NumPy array\n",
    "    \n",
    "#     if X.ndim == 1:\n",
    "#         X = X.reshape(-1, 1)\n",
    "\n",
    "#     num_features = X.shape[1]  # Use shape for numpy arrays\n",
    "    if num_clusters == 0:\n",
    "        plt.scatter(X[:,0],X[:,1],c = color[0],alpha = alpha,s = s)\n",
    "    else:\n",
    "        for i in range(num_clusters):\n",
    "            plt.scatter(X[km.labels_==i,0],X[km.labels_==i,1],c = color[i],alpha = alpha,s=s)\n",
    "            plt.scatter(km.cluster_centers_[i][0],km.cluster_centers_[i][1],c = color[i], marker = 'x', s = 100)"
   ]
  },
  {
   "cell_type": "markdown",
   "metadata": {},
   "source": [
    "> #### 2.2. Example 1 : Circular Data Gen and display "
   ]
  },
  {
   "cell_type": "markdown",
   "metadata": {},
   "source": [
    "* below is an example of how to use the funciton \n",
    "  *  prepare the figure size and background \n",
    "   > * this part can be replaced by a number of subplots \n",
    "  \n",
    "  * Produce a data set that represent the x and y o coordinates of a circle \n",
    "   > * this part can be replaced by data that you import froma file \n",
    "  \n",
    "  * Data is displayed \n",
    "   > * to display the data only it is assumed that the number of clusters is zero which is the default of the fuction "
   ]
  },
  {
   "cell_type": "code",
   "execution_count": 16,
   "metadata": {},
   "outputs": [
    {
     "name": "stdout",
     "output_type": "stream",
     "text": [
      "<class 'numpy.ndarray'>\n",
      "(20, 2)\n"
     ]
    },
    {
     "data": {
      "image/png": "[encoded data removed]",
      "text/plain": [
       "<Figure size 400x400 with 1 Axes>"
      ]
     },
     "metadata": {},
     "output_type": "display_data"
    }
   ],
   "source": [
    "# prepare the figure sise and background \n",
    "# this part can be replaced by a number of subplots \n",
    "angle = np.linspace(0, 2*np.pi, 20, endpoint=False)\n",
    "data = np.append([np.cos(angle)], [np.sin(angle)], 0).transpose()\n",
    "sns.set_style(\"whitegrid\")\n",
    "sns.set_context(\"talk\")\n",
    "plt.rcParams['figure.figsize'] = [4,4]\n",
    "# Produce a data set that represent the x and y o coordinates of a circle \n",
    "# this part can be replaced by data that you import froma file \n",
    "angle = np.linspace(0,2*np.pi,20, endpoint = False)\n",
    "X = np.append([np.cos(angle)],[np.sin(angle)],0).transpose()\n",
    "print(type(X))\n",
    "print(np.array(X).shape)\n",
    "# Data is displayed \n",
    "# to display the data only it is assumed that the number of clusters is zero which is the default of the fuction \n",
    "display_cluster(X)"
   ]
  },
  {
   "cell_type": "code",
   "execution_count": 46,
   "metadata": {},
   "outputs": [
    {
     "name": "stdout",
     "output_type": "stream",
     "text": [
      "[[0.9609839241513629, 0.5217638805713913], [0.20179266158768216, -0.46660026709354674], [-0.861369695307451, 0.07325123624090923], [0.6039880382777492, -0.2857910072174672]]\n",
      "[0.96098392 0.52176388]\n",
      "[0.00152225 0.9234901 ]\n",
      "[0. 0.]\n"
     ]
    },
    {
     "ename": "ValueError",
     "evalue": "setting an array element with a sequence.",
     "output_type": "error",
     "traceback": [
      "\u001b[1;31m---------------------------------------------------------------------------\u001b[0m",
      "\u001b[1;31mTypeError\u001b[0m                                 Traceback (most recent call last)",
      "\u001b[1;31mTypeError\u001b[0m: only size-1 arrays can be converted to Python scalars",
      "\nThe above exception was the direct cause of the following exception:\n",
      "\u001b[1;31mValueError\u001b[0m                                Traceback (most recent call last)",
      "Cell \u001b[1;32mIn[46], line 1\u001b[0m\n\u001b[1;32m----> 1\u001b[0m euclidean_4 \u001b[38;5;241m=\u001b[39m GUC_Kmean( X, \u001b[38;5;241m4\u001b[39m,  Distance_Type\u001b[38;5;241m=\u001b[39m\u001b[38;5;124m'\u001b[39m\u001b[38;5;124meuclidean\u001b[39m\u001b[38;5;124m'\u001b[39m, max_iterations\u001b[38;5;241m=\u001b[39m\u001b[38;5;241m100\u001b[39m, tolerance\u001b[38;5;241m=\u001b[39m\u001b[38;5;241m1e-4\u001b[39m )\n\u001b[0;32m      2\u001b[0m \u001b[38;5;66;03m#euclidean_4_array_1 = euclidean_4[0]\u001b[39;00m\n\u001b[0;32m      3\u001b[0m \u001b[38;5;66;03m#euclidean_4_array = np.array(euclidean_4_array_1)\u001b[39;00m\n\u001b[0;32m      4\u001b[0m \u001b[38;5;28mprint\u001b[39m(\u001b[38;5;28mtype\u001b[39m(euclidean_4_array))\n",
      "Cell \u001b[1;32mIn[45], line 17\u001b[0m, in \u001b[0;36mGUC_Kmean\u001b[1;34m(Data_points, Number_of_Clusters, Distance_Type, max_iterations, tolerance)\u001b[0m\n\u001b[0;32m     13\u001b[0m \u001b[38;5;66;03m#cluster_heads = initialize_cluster_heads(Data_points, Number_of_Clusters)\u001b[39;00m\n\u001b[0;32m     15\u001b[0m \u001b[38;5;28;01mfor\u001b[39;00m iteration \u001b[38;5;129;01min\u001b[39;00m \u001b[38;5;28mrange\u001b[39m(max_iterations):\n\u001b[0;32m     16\u001b[0m     \u001b[38;5;66;03m# Step 2: Cluster Assignment\u001b[39;00m\n\u001b[1;32m---> 17\u001b[0m     Final_Cluster_Distance \u001b[38;5;241m=\u001b[39m GUC_Distance(cluster_heads, Data_points, Distance_Type)\n\u001b[0;32m     18\u001b[0m     cluster_assignments \u001b[38;5;241m=\u001b[39m assign_clusters(Cluster_Distance)\n\u001b[0;32m     19\u001b[0m     mean_square_distances \u001b[38;5;241m=\u001b[39m np\u001b[38;5;241m.\u001b[39mmean(np\u001b[38;5;241m.\u001b[39mmin(Final_Cluster_Distance, axis\u001b[38;5;241m=\u001b[39m\u001b[38;5;241m1\u001b[39m)\u001b[38;5;241m*\u001b[39m\u001b[38;5;241m*\u001b[39m\u001b[38;5;241m2\u001b[39m)\n",
      "Cell \u001b[1;32mIn[35], line 20\u001b[0m, in \u001b[0;36mGUC_Distance\u001b[1;34m(Cluster_Centroids, Data_points, Distance_Type)\u001b[0m\n\u001b[0;32m     18\u001b[0m \u001b[38;5;28mprint\u001b[39m(diff)\n\u001b[0;32m     19\u001b[0m \u001b[38;5;28mprint\u001b[39m(answer)\n\u001b[1;32m---> 20\u001b[0m answer[l] \u001b[38;5;241m=\u001b[39m diff\n\u001b[0;32m     21\u001b[0m sum_answers \u001b[38;5;241m=\u001b[39m \u001b[38;5;28msum\u001b[39m(answer)\n\u001b[0;32m     22\u001b[0m distance \u001b[38;5;241m=\u001b[39m np\u001b[38;5;241m.\u001b[39msqrt(sum_answers)\n",
      "\u001b[1;31mValueError\u001b[0m: setting an array element with a sequence."
     ]
    }
   ],
   "source": [
    "euclidean_4 = GUC_Kmean( X, 4,  Distance_Type='euclidean', max_iterations=100, tolerance=1e-4 )\n",
    "#euclidean_4_array_1 = euclidean_4[0]\n",
    "#euclidean_4_array = np.array(euclidean_4_array_1)\n",
    "print(type(euclidean_4_array))\n",
    "print(np.array(euclidean_4_array).shape)\n",
    "display_cluster(euclidean_4_array)"
   ]
  },
  {
   "cell_type": "code",
   "execution_count": null,
   "metadata": {},
   "outputs": [],
   "source": [
    "pearson_4 = GUC_Kmean( X, 4,  Distance_Type='pearson', max_iterations=100, tolerance=1e-4 )\n",
    "pearson_4_array_1 = pearson_4[0]\n",
    "pearson_4_array = np.array(pearson_4_array_1)\n",
    "print(type(pearson_4_array))\n",
    "print(np.array(pearson_4_array).shape)\n",
    "display_cluster(pearson_4_array)"
   ]
  },
  {
   "cell_type": "code",
   "execution_count": null,
   "metadata": {},
   "outputs": [],
   "source": [
    "euclidean_6 = GUC_Kmean( X, 6,  Distance_Type='euclidean', max_iterations=100, tolerance=1e-4 )\n",
    "euclidean_6_array_1 = euclidean_6[0]\n",
    "euclidean_6_array = np.array(euclidean_6_array_1)\n",
    "print(type(euclidean_6_array))\n",
    "print(np.array(euclidean_6_array).shape)\n",
    "display_cluster(euclidean_6_array)"
   ]
  },
  {
   "cell_type": "code",
   "execution_count": null,
   "metadata": {},
   "outputs": [],
   "source": [
    "pearson_6 = GUC_Kmean( X, 6,  Distance_Type='pearson', max_iterations=100, tolerance=1e-4 )\n",
    "pearson_6_array_1 = pearson_6[0]\n",
    "pearson_6_array = np.array(pearson_6_array_1)\n",
    "print(type(pearson_6_array))\n",
    "print(np.array(pearson_6_array).shape)\n",
    "display_cluster(pearson_6_array)"
   ]
  },
  {
   "cell_type": "code",
   "execution_count": null,
   "metadata": {
    "scrolled": true
   },
   "outputs": [],
   "source": [
    "euclidean_8 = GUC_Kmean( X, 8,  Distance_Type='euclidean', max_iterations=100, tolerance=1e-4 )\n",
    "euclidean_8_array_1 = euclidean_8[0]\n",
    "euclidean_8_array = np.array(euclidean_8_array_1)\n",
    "print(type(euclidean_8_array))\n",
    "print(np.array(euclidean_8_array).shape)\n",
    "display_cluster(euclidean_8_array)"
   ]
  },
  {
   "cell_type": "code",
   "execution_count": null,
   "metadata": {},
   "outputs": [],
   "source": [
    "pearson_8 = GUC_Kmean( X, 8,  Distance_Type='pearson', max_iterations=100, tolerance=1e-4 )\n",
    "pearson_8_array_1 = pearson_8[0]\n",
    "pearson_8_array = np.array(pearson_8_array_1)\n",
    "print(type(pearson_8_array))\n",
    "print(np.array(pearson_8_array).shape)\n",
    "display_cluster(pearson_8_array)"
   ]
  },
  {
   "cell_type": "markdown",
   "metadata": {},
   "source": [
    "> #### 2.3. Example 2 : Multi blob Data Gen and display "
   ]
  },
  {
   "cell_type": "code",
   "execution_count": null,
   "metadata": {},
   "outputs": [],
   "source": [
    "n_samples = 1000\n",
    "n_bins = 4  \n",
    "centers = [(-3, -3), (0, 0), (3, 3), (6, 6), (9,9)]\n",
    "X, y = make_blobs(n_samples=n_samples, n_features=2, cluster_std=1.0,\n",
    "                  centers=centers, shuffle=False, random_state=42)\n",
    "display_cluster(X)\n",
    "print(type(X))\n",
    "print(np.array(X).shape)"
   ]
  },
  {
   "cell_type": "code",
   "execution_count": null,
   "metadata": {},
   "outputs": [],
   "source": [
    "euclidean_4 = GUC_Kmean( X, 4,  Distance_Type='euclidean', max_iterations=100, tolerance=1e-4 )\n",
    "euclidean_4_array_1 = euclidean_4[0]\n",
    "euclidean_4_array = np.array(euclidean_4_array_1)\n",
    "print(type(euclidean_4_array))\n",
    "print(np.array(euclidean_4_array).shape)\n",
    "display_cluster(euclidean_4_array)"
   ]
  },
  {
   "cell_type": "code",
   "execution_count": null,
   "metadata": {},
   "outputs": [],
   "source": [
    "pearson_4 = GUC_Kmean( X, 4,  Distance_Type='pearson', max_iterations=100, tolerance=1e-4 )\n",
    "pearson_4_array_1 = pearson_4[0]\n",
    "pearson_4_array = np.array(pearson_4_array_1)\n",
    "print(type(pearson_4_array))\n",
    "print(np.array(pearson_4_array).shape)\n",
    "display_cluster(pearson_4_array)"
   ]
  },
  {
   "cell_type": "code",
   "execution_count": null,
   "metadata": {},
   "outputs": [],
   "source": [
    "euclidean_6 = GUC_Kmean( X, 6,  Distance_Type='euclidean', max_iterations=100, tolerance=1e-4 )\n",
    "euclidean_6_array_1 = euclidean_6[0]\n",
    "euclidean_6_array = np.array(euclidean_6_array_1)\n",
    "print(type(euclidean_6_array))\n",
    "print(np.array(euclidean_6_array).shape)\n",
    "display_cluster(euclidean_6_array)"
   ]
  },
  {
   "cell_type": "code",
   "execution_count": null,
   "metadata": {},
   "outputs": [],
   "source": [
    "pearson_6 = GUC_Kmean( X, 6,  Distance_Type='pearson', max_iterations=100, tolerance=1e-4 )\n",
    "pearson_6_array_1 = pearson_6[0]\n",
    "pearson_6_array = np.array(pearson_6_array_1)\n",
    "print(type(pearson_6_array))\n",
    "print(np.array(pearson_6_array).shape)\n",
    "display_cluster(pearson_6_array)"
   ]
  },
  {
   "cell_type": "code",
   "execution_count": null,
   "metadata": {},
   "outputs": [],
   "source": [
    "euclidean_8 = GUC_Kmean( X, 8,  Distance_Type='euclidean', max_iterations=100, tolerance=1e-4 )\n",
    "euclidean_8_array_1 = euclidean_8[0]\n",
    "euclidean_8_array = np.array(euclidean_8_array_1)\n",
    "print(type(euclidean_8_array))\n",
    "print(np.array(euclidean_8_array).shape)\n",
    "display_cluster(euclidean_8_array)"
   ]
  },
  {
   "cell_type": "code",
   "execution_count": null,
   "metadata": {},
   "outputs": [],
   "source": [
    "pearson_8 = GUC_Kmean( X, 8,  Distance_Type='pearson', max_iterations=100, tolerance=1e-4 )\n",
    "pearson_8_array_1 = pearson_8[0]\n",
    "pearson_8_array = np.array(pearson_8_array_1)\n",
    "print(type(pearson_8_array))\n",
    "print(np.array(pearson_8_array).shape)\n",
    "display_cluster(pearson_8_array)"
   ]
  },
  {
   "cell_type": "markdown",
   "metadata": {},
   "source": [
    "#### 2.3. Example 3 : moons Data Gen and display "
   ]
  },
  {
   "cell_type": "code",
   "execution_count": null,
   "metadata": {},
   "outputs": [],
   "source": [
    "n_samples = 1000\n",
    "X, y = noisy_moons = make_moons(n_samples=n_samples, noise= .1)\n",
    "display_cluster(X)\n",
    "print(type(X))\n",
    "print(np.array(X).shape)"
   ]
  },
  {
   "cell_type": "code",
   "execution_count": null,
   "metadata": {},
   "outputs": [],
   "source": [
    "euclidean_4 = GUC_Kmean( X, 4,  Distance_Type='euclidean', max_iterations=100, tolerance=1e-4 )\n",
    "euclidean_4_array_1 = euclidean_4[0]\n",
    "euclidean_4_array = np.array(euclidean_4_array_1)\n",
    "print(type(euclidean_4_array))\n",
    "print(np.array(euclidean_4_array).shape)\n",
    "display_cluster(euclidean_4_array)"
   ]
  },
  {
   "cell_type": "code",
   "execution_count": null,
   "metadata": {},
   "outputs": [],
   "source": [
    "pearson_4 = GUC_Kmean( X, 4,  Distance_Type='pearson', max_iterations=100, tolerance=1e-4 )\n",
    "pearson_4_array_1 = pearson_4[0]\n",
    "pearson_4_array = np.array(pearson_4_array_1)\n",
    "print(type(pearson_4_array))\n",
    "print(np.array(pearson_4_array).shape)\n",
    "display_cluster(pearson_4_array)"
   ]
  },
  {
   "cell_type": "code",
   "execution_count": null,
   "metadata": {},
   "outputs": [],
   "source": [
    "euclidean_6 = GUC_Kmean( X, 6,  Distance_Type='euclidean', max_iterations=100, tolerance=1e-4 )\n",
    "euclidean_6_array_1 = euclidean_6[0]\n",
    "euclidean_6_array = np.array(euclidean_6_array_1)\n",
    "print(type(euclidean_6_array))\n",
    "print(np.array(euclidean_6_array).shape)\n",
    "display_cluster(euclidean_6_array)"
   ]
  },
  {
   "cell_type": "code",
   "execution_count": null,
   "metadata": {},
   "outputs": [],
   "source": [
    "pearson_6 = GUC_Kmean( X, 6,  Distance_Type='pearson', max_iterations=100, tolerance=1e-4 )\n",
    "pearson_6_array_1 = pearson_6[0]\n",
    "pearson_6_array = np.array(pearson_6_array_1)\n",
    "print(type(pearson_6_array))\n",
    "print(np.array(pearson_6_array).shape)\n",
    "display_cluster(pearson_6_array)"
   ]
  },
  {
   "cell_type": "code",
   "execution_count": null,
   "metadata": {},
   "outputs": [],
   "source": [
    "euclidean_8 = GUC_Kmean( X, 8,  Distance_Type='euclidean', max_iterations=100, tolerance=1e-4 )\n",
    "euclidean_8_array_1 = euclidean_8[0]\n",
    "euclidean_8_array = np.array(euclidean_8_array_1)\n",
    "print(type(euclidean_8_array))\n",
    "print(np.array(euclidean_8_array).shape)\n",
    "display_cluster(euclidean_8_array)"
   ]
  },
  {
   "cell_type": "code",
   "execution_count": null,
   "metadata": {},
   "outputs": [],
   "source": [
    "pearson_8 = GUC_Kmean( X, 8,  Distance_Type='pearson', max_iterations=100, tolerance=1e-4 )\n",
    "pearson_8_array_1 = pearson_8[0]\n",
    "pearson_8_array = np.array(pearson_8_array_1)\n",
    "print(type(pearson_8_array))\n",
    "print(np.array(pearson_8_array).shape)\n",
    "display_cluster(pearson_8_array)"
   ]
  },
  {
   "cell_type": "code",
   "execution_count": null,
   "metadata": {},
   "outputs": [],
   "source": [
    "from sklearn.metrics import silhouette_score, calinski_harabasz_score, davies_bouldin_score\n",
    "\n",
    "def calculate_cluster_metrics(true_labels, predicted_labels, data):\n",
    "    \"\"\"\n",
    "    Calculate cluster performance metrics.\n",
    "\n",
    "    Parameters:\n",
    "    - true_labels: True labels of the data points.\n",
    "    - predicted_labels: Predicted labels assigned by the clustering algorithm.\n",
    "    - data: The data matrix used for clustering.\n",
    "\n",
    "    Returns:\n",
    "    - silhouette: Silhouette Score.\n",
    "    - calinski_harabasz: Calinski-Harabasz Index.\n",
    "    - davies_bouldin: Davies-Bouldin Index.\n",
    "    \"\"\"\n",
    "    silhouette = silhouette_score(data, predicted_labels)\n",
    "    calinski_harabasz = calinski_harabasz_score(data, predicted_labels)\n",
    "    davies_bouldin = davies_bouldin_score(data, predicted_labels)\n",
    "\n",
    "    return silhouette, calinski_harabasz, davies_bouldin\n",
    "\n",
    "# Example usage:\n",
    "# Replace true_labels, predicted_labels, and data with your actual data\n",
    "true_labels = [0, 1, 0, 1, 0, 1]\n",
    "predicted_labels = [1, 0, 1, 0, 1, 0]\n",
    "data = [[1, 2], [3, 4], [5, 6], [7, 8], [9, 10], [11, 12]]\n",
    "\n",
    "silhouette, calinski_harabasz, davies_bouldin = calculate_cluster_metrics(true_labels, predicted_labels, data)\n",
    "\n",
    "print(\"Silhouette Score:\", silhouette)\n",
    "print(\"Calinski-Harabasz Index:\", calinski_harabasz)\n",
    "print(\"Davies-Bouldin Index:\", davies_bouldin)"
   ]
  },
  {
   "cell_type": "code",
   "execution_count": null,
   "metadata": {},
   "outputs": [],
   "source": [
    "calculate_cluster_metrics()"
   ]
  },
  {
   "cell_type": "markdown",
   "metadata": {},
   "source": [
    "## 3. Testing the GUC_Kmean function on Simple 2D\n",
    "1. Apply the GUC_Kmean fucntion to 2D Data provided by example 1, Example 2 and Example 3\n",
    "2. Try a varing number of cluster centriods that range from 2 to 10 clusters on each set \n",
    "3. Display your results.\n",
    "4. plot the Cluster perfromance Metric versus the number of clusters\n",
    "4. Change the distance function and repeat the above steps "
   ]
  },
  {
   "cell_type": "raw",
   "metadata": {},
   "source": [
    "DONE IN THE ABOVE SECTION"
   ]
  },
  {
   "cell_type": "markdown",
   "metadata": {},
   "source": [
    "## 4. Using the GUC_Kmean function to segment customers int he provided customer dataset\n",
    "1. Apply the GUC_Kmean fucntion to customer data  \n",
    "2. Try a varing number of cluster that range from 2 to 10 cluster on each set \n",
    "3. Display your results.\n",
    "4. plot the Cluster Metric versus the number of clusters\n",
    "4. Change the distance function and repeat the above steps "
   ]
  },
  {
   "cell_type": "code",
   "execution_count": null,
   "metadata": {},
   "outputs": [],
   "source": []
  }
 ],
 "metadata": {
  "kernelspec": {
   "display_name": "Python 3 (ipykernel)",
   "language": "python",
   "name": "python3"
  },
  "language_info": {
   "codemirror_mode": {
    "name": "ipython",
    "version": 3
   },
   "file_extension": ".py",
   "mimetype": "text/x-python",
   "name": "python",
   "nbconvert_exporter": "python",
   "pygments_lexer": "ipython3",
   "version": "3.11.5"
  }
 },
 "nbformat": 4,
 "nbformat_minor": 2
}
